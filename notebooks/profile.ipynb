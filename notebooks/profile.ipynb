{
 "cells": [
  {
   "cell_type": "code",
   "execution_count": 1,
   "metadata": {},
   "outputs": [],
   "source": [
    "%load_ext line_profiler"
   ]
  },
  {
   "cell_type": "code",
   "execution_count": 2,
   "metadata": {},
   "outputs": [],
   "source": [
    "from pyaupro import PerRegionOverlap, generate_random_data"
   ]
  },
  {
   "cell_type": "code",
   "execution_count": 3,
   "metadata": {},
   "outputs": [],
   "source": [
    "preds, target = generate_random_data(batch_size=128, height=512, width=512, seed=42)"
   ]
  },
  {
   "cell_type": "code",
   "execution_count": 4,
   "metadata": {},
   "outputs": [],
   "source": [
    "from pyaupro._implementation import _per_region_overlap_update, _per_region_overlap_compute"
   ]
  },
  {
   "cell_type": "code",
   "execution_count": 12,
   "metadata": {},
   "outputs": [],
   "source": [
    "pro_curve = PerRegionOverlap(thresholds=100)"
   ]
  },
  {
   "cell_type": "code",
   "execution_count": 14,
   "metadata": {},
   "outputs": [
    {
     "name": "stdout",
     "output_type": "stream",
     "text": [
      "Timer unit: 1e-07 s\n",
      "\n",
      "Total time: 7.12644 s\n",
      "File: C:\\development\\pyaupro\\src\\pyaupro\\_implementation.py\n",
      "Function: _per_region_overlap_update at line 216\n",
      "\n",
      "Line #      Hits         Time  Per Hit   % Time  Line Contents\n",
      "==============================================================\n",
      "   216                                           def _per_region_overlap_update(\n",
      "   217                                               preds: Tensor,\n",
      "   218                                               target: Tensor,\n",
      "   219                                               thresholds:  Tensor,\n",
      "   220                                           ) -> tuple[Tensor, Tensor]:\n",
      "   221                                               \"\"\"Return the false positive rate and per-region overlap for the given thresholds.\"\"\"\n",
      "   222         1        201.0    201.0      0.0      len_t = len(thresholds)\n",
      "   223                                           \n",
      "   224                                               # define the 8-neighbor connectivity structure for 3d-tensors\n",
      "   225         1         94.0     94.0      0.0      batch_structure = np.zeros((3,3,3), dtype=int)\n",
      "   226         1        108.0    108.0      0.0      batch_structure[1,:,:] = 1\n",
      "   227                                           \n",
      "   228                                               # pre-compute total component areas for region overlap\n",
      "   229         1    1084381.0    1e+06      1.5      components, _ = label(target.numpy(force=True), structure=batch_structure)\n",
      "   230         1        360.0    360.0      0.0      flat_components = torch.from_numpy(components.ravel())\n",
      "   231                                           \n",
      "   232                                               # only keep true components (non-zero values)\n",
      "   233         1      63996.0  63996.0      0.1      pos_comp_mask = flat_components > 0\n",
      "   234         1     103766.0 103766.0      0.1      flat_components = flat_components[pos_comp_mask]\n",
      "   235         1        715.0    715.0      0.0      total_area = torch.bincount(flat_components)[1:]\n",
      "   236                                           \n",
      "   237                                               # pre-compute the negative mask and flatten preds for perf\n",
      "   238         1      67262.0  67262.0      0.1      negatives = (target == 0).ravel()\n",
      "   239         1     321216.0 321216.0      0.5      total_negatives = negatives.sum()\n",
      "   240         1        230.0    230.0      0.0      flat_preds = preds.ravel()\n",
      "   241                                           \n",
      "   242                                               # initialize the result tensors\n",
      "   243         1        261.0    261.0      0.0      false_positive_rate = thresholds.new_empty(len_t, dtype=torch.float64)\n",
      "   244         1         35.0     35.0      0.0      per_region_overlap = thresholds.new_empty(len_t, dtype=torch.float64)\n",
      "   245                                           \n",
      "   246                                               # Iterate one threshold at a time to conserve memory\n",
      "   247       101       2554.0     25.3      0.0      for t in range(len_t):\n",
      "   248                                                   # compute false positive rate\n",
      "   249       100   14128238.0 141282.4     19.8          preds_t = flat_preds >= thresholds[t]\n",
      "   250       100   36568494.0 365684.9     51.3          false_positive_rate[t] = negatives[preds_t].sum()\n",
      "   251                                           \n",
      "   252                                                   # compute per-region overlap\n",
      "   253       300     156678.0    522.3      0.2          overlap_area = torch.bincount(\n",
      "   254       100       1104.0     11.0      0.0              flat_components,\n",
      "   255       100   18663741.0 186637.4     26.2              weights=preds_t[pos_comp_mask]\n",
      "   256       100       1229.0     12.3      0.0          )[1:]\n",
      "   257       100      33207.0    332.1      0.0          overlap_area.div_(total_area) # faster than overlap_area / total_area\n",
      "   258       100      66271.0    662.7      0.1          per_region_overlap[t] = torch.mean(overlap_area)\n",
      "   259                                           \n",
      "   260         1        224.0    224.0      0.0      return false_positive_rate / total_negatives, per_region_overlap"
     ]
    }
   ],
   "source": [
    "%lprun -f _per_region_overlap_update pro_curve.update(preds, target)"
   ]
  },
  {
   "cell_type": "code",
   "execution_count": 10,
   "metadata": {},
   "outputs": [],
   "source": [
    "pro_curve = PerRegionOverlap(thresholds=None)\n",
    "pro_curve.update(preds, target)"
   ]
  },
  {
   "cell_type": "code",
   "execution_count": 11,
   "metadata": {},
   "outputs": [
    {
     "name": "stdout",
     "output_type": "stream",
     "text": [
      "Timer unit: 1e-07 s\n",
      "\n",
      "Total time: 4.50954 s\n",
      "File: C:\\development\\pyaupro\\src\\pyaupro\\_implementation.py\n",
      "Function: _per_region_overlap_compute at line 263\n",
      "\n",
      "Line #      Hits         Time  Per Hit   % Time  Line Contents\n",
      "==============================================================\n",
      "   263                                           def _per_region_overlap_compute(\n",
      "   264                                                   preds: Tensor,\n",
      "   265                                                   target: Tensor,\n",
      "   266                                                   precision: torch.dtype = torch.float64\n",
      "   267                                           ):\n",
      "   268                                               \"\"\"Compute the exact per-region overlap over all possible thresholds.\"\"\"\n",
      "   269                                               # Structuring element for computing connected components.\n",
      "   270         1      17538.0  17538.0      0.0      batch_structure = np.zeros((3,3,3), dtype=int)\n",
      "   271         1      11240.0  11240.0      0.0      batch_structure[1,:,:] = 1\n",
      "   272                                           \n",
      "   273                                               # pre-compute total component areas for region overlap\n",
      "   274         1    4101655.0    4e+06      9.1      components, n_components = label(target.numpy(force=True), structure=batch_structure)\n",
      "   275         1       2769.0   2769.0      0.0      flat_components = torch.from_numpy(components.ravel())\n",
      "   276                                           \n",
      "   277                                               # contribution of per-region overlap to the curve    \n",
      "   278                                               # only use real components for bincount (nonzero values)\n",
      "   279         1     380138.0 380138.0      0.8      total_area = torch.bincount(flat_components[flat_components > 0])\n",
      "   280                                           \n",
      "   281                                               # divide the relative contribution by area and number of components\n",
      "   282         1      26095.0  26095.0      0.1      bin_contribution = 1.0 / n_components / total_area.to(precision)\n",
      "   283         1       1075.0   1075.0      0.0      bin_contribution[0] = 0 # division by zero, must replace inf\n",
      "   284                                           \n",
      "   285                                               # component idx to determine their relative contribution\n",
      "   286         1     783328.0 783328.0      1.7      pro_contribution = bin_contribution[flat_components]\n",
      "   287                                           \n",
      "   288                                               # contribution of false positive rate to the curve\n",
      "   289         1     410682.0 410682.0      0.9      fpr_contribution = (target == 0).ravel().to(precision)\n",
      "   290         1     222037.0 222037.0      0.5      fpr_contribution.div_(fpr_contribution.sum())\n",
      "   291                                           \n",
      "   292                                               # sort the contributions according to predictions\n",
      "   293         1   35027842.0    4e+07     77.7      sort_idx = torch.argsort(preds.ravel(), descending=True)\n",
      "   294         1    1671234.0    2e+06      3.7      false_positive_rate = torch.take(fpr_contribution, sort_idx)\n",
      "   295         1     346579.0 346579.0      0.8      torch.cumsum(false_positive_rate, dim=0, out=false_positive_rate)\n",
      "   296         1    1450427.0    1e+06      3.2      per_region_overlap = torch.take(pro_contribution, sort_idx)\n",
      "   297         1     334230.0 334230.0      0.7      torch.cumsum(per_region_overlap, dim=0, out=per_region_overlap)\n",
      "   298                                           \n",
      "   299                                               # prevent possible cumsum rounding errors\n",
      "   300         1     159663.0 159663.0      0.4      torch.clamp_(false_positive_rate, max=1.0)\n",
      "   301         1     148208.0 148208.0      0.3      torch.clamp_(per_region_overlap, max=1.0)\n",
      "   302                                           \n",
      "   303         1        621.0    621.0      0.0      return false_positive_rate, per_region_overlap"
     ]
    }
   ],
   "source": [
    "%lprun -f _per_region_overlap_compute pro_curve.compute()"
   ]
  },
  {
   "cell_type": "code",
   "execution_count": null,
   "metadata": {},
   "outputs": [],
   "source": []
  }
 ],
 "metadata": {
  "kernelspec": {
   "display_name": ".venv",
   "language": "python",
   "name": "python3"
  },
  "language_info": {
   "codemirror_mode": {
    "name": "ipython",
    "version": 3
   },
   "file_extension": ".py",
   "mimetype": "text/x-python",
   "name": "python",
   "nbconvert_exporter": "python",
   "pygments_lexer": "ipython3",
   "version": "3.12.9"
  }
 },
 "nbformat": 4,
 "nbformat_minor": 2
}
